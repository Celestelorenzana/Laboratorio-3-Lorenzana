{
 "cells": [
  {
   "cell_type": "markdown",
   "id": "2f3d7e29-225c-43dc-bda1-cafe8600efb7",
   "metadata": {},
   "source": [
    "# Parte 1"
   ]
  },
  {
   "cell_type": "markdown",
   "id": "857fd7fb-0f1a-4e33-bd9b-c5e753d34a76",
   "metadata": {
    "tags": []
   },
   "source": [
    "# 1 ¿Cuál es el tamaño en bytes de un array de 1000 elementos de tipo booleano?"
   ]
  },
  {
   "cell_type": "markdown",
   "id": "4bfade89-778f-490e-a978-dc3bd148e1d0",
   "metadata": {},
   "source": [
    "Un bool ocupa 1 byte.\n",
    "Un array de 1000 bool ocuparía 1000 bytes."
   ]
  },
  {
   "cell_type": "markdown",
   "id": "af59d0fa-47e7-485f-80d0-7c4ccb9dd13a",
   "metadata": {
    "tags": []
   },
   "source": [
    "# Cree un array cuyos elementos sean los enteros pares en (1,100) y en orden decreciente Muestre los 10 últimos por pantalla"
   ]
  },
  {
   "cell_type": "code",
   "execution_count": 2,
   "id": "748bfdbd-6e0c-4957-92c1-4284fa2b2ca6",
   "metadata": {
    "tags": []
   },
   "outputs": [
    {
     "name": "stdout",
     "output_type": "stream",
     "text": [
      "[20, 18, 16, 14, 12, 10, 8, 6, 4, 2]\n"
     ]
    }
   ],
   "source": [
    "def crear_array_pares_decrecientes(n):\n",
    "  \"\"\"\n",
    "  Crea un array de enteros pares en orden decreciente.\n",
    "\n",
    "  Parámetros:\n",
    "    n: El tamaño del array.\n",
    "\n",
    "  Devuelve:\n",
    "    Un array de enteros pares en orden decreciente.\n",
    "  \"\"\"\n",
    "  return [i for i in range(n, 0, -2)]\n",
    "\n",
    "# Crea un array de 100 enteros pares en orden decreciente\n",
    "array_pares = crear_array_pares_decrecientes(100)\n",
    "\n",
    "# Muestra los 10 últimos elementos del array\n",
    "print(array_pares[-10:])"
   ]
  },
  {
   "cell_type": "markdown",
   "id": "fa9d7d42-db5d-4a5f-b9fe-4dad0f4438de",
   "metadata": {},
   "source": [
    "# 3) Dado el array"
   ]
  },
  {
   "cell_type": "code",
   "execution_count": 3,
   "id": "0a23614d-996d-40e6-a1ac-9d81da26da23",
   "metadata": {
    "tags": []
   },
   "outputs": [
    {
     "name": "stdout",
     "output_type": "stream",
     "text": [
      "Subarray 1: [2, 6, 4, 0]\n",
      "Subarray 2: [5, 3, 8, 3]\n"
     ]
    }
   ],
   "source": [
    "def seleccionar_subarray(array, indices):\n",
    "  \"\"\"\n",
    "  Selecciona un subarray de un array dado una lista de indices.\n",
    "\n",
    "  Parámetros:\n",
    "    array: El array original.\n",
    "    indices: Una lista de indices que forman el subarray.\n",
    "\n",
    "  Devuelve:\n",
    "    Un subarray del array original.\n",
    "  \"\"\"\n",
    "  subarray = []\n",
    "  for i in indices:\n",
    "    subarray.append(array[i])\n",
    "  return subarray\n",
    "\n",
    "# Array original\n",
    "array = [2, 4, 5, 6, 0, 3, 7, 4, 8, 8, 5, 2, 1, 5, 6, 1]\n",
    "\n",
    "# Seleccionar subarray de elementos 0 3 7 4\n",
    "indices_1 = [0, 3, 7, 4]\n",
    "subarray_1 = seleccionar_subarray(array, indices_1)\n",
    "\n",
    "# Seleccionar subarray de elementos 2 5 8 5\n",
    "indices_2 = [2, 5, 8, 5]\n",
    "subarray_2 = seleccionar_subarray(array, indices_2)\n",
    "\n",
    "# Imprimir subarrays\n",
    "print(f\"Subarray 1: {subarray_1}\")\n",
    "print(f\"Subarray 2: {subarray_2}\")"
   ]
  },
  {
   "cell_type": "markdown",
   "id": "bc8e41c3-7a15-41d5-9cfc-a66455b2111c",
   "metadata": {
    "tags": []
   },
   "source": [
    "# Dados los arrays a = [1, 4, 2, 7] y b = [1, 3, 2, 9], obtenga la media aritmética de la diferencia (a-b)"
   ]
  },
  {
   "cell_type": "code",
   "execution_count": 5,
   "id": "a4d2d1ce-70a8-46f0-8ce4-b6e20287d71e",
   "metadata": {
    "tags": []
   },
   "outputs": [
    {
     "name": "stdout",
     "output_type": "stream",
     "text": [
      "La media aritmética de la diferencia es: -0.25\n"
     ]
    }
   ],
   "source": [
    "def calcular_media_diferencia(a, b):\n",
    "  \"\"\"\n",
    "  Calcula la media aritmética de la diferencia entre dos arrays.\n",
    "\n",
    "  Parámetros:\n",
    "    a: El primer array.\n",
    "    b: El segundo array.\n",
    "\n",
    "  Devuelve:\n",
    "    La media aritmética de la diferencia entre los dos arrays.\n",
    "  \"\"\"\n",
    "  if len(a) != len(b):\n",
    "    raise ValueError(\"Los arrays deben tener la misma longitud\")\n",
    "  \n",
    "  diferencias = [a_i - b_i for a_i, b_i in zip(a, b)]\n",
    "  media = sum(diferencias) / len(diferencias)\n",
    "  return media\n",
    "\n",
    "# Arrays de ejemplo\n",
    "a = [1, 4, 2, 7]\n",
    "b = [1, 3, 2, 9]\n",
    "\n",
    "# Calcular la media aritmética de la diferencia\n",
    "try:\n",
    "  media_diferencia = calcular_media_diferencia(a, b)\n",
    "  print(f\"La media aritmética de la diferencia es: {media_diferencia}\")\n",
    "except ValueError as error:\n",
    "  print(error)\n"
   ]
  },
  {
   "cell_type": "markdown",
   "id": "aba99f33-c8c0-4ea9-80dc-70175eb0bda0",
   "metadata": {},
   "source": [
    "# Agregue a este array las coordenadas (37.1, -3.6).Muestre en pantalla las dimensiones del nuevo array."
   ]
  },
  {
   "cell_type": "code",
   "execution_count": 7,
   "id": "523d3072-d33b-4bba-8821-5332d9c4379a",
   "metadata": {
    "tags": []
   },
   "outputs": [
    {
     "name": "stdout",
     "output_type": "stream",
     "text": [
      "Dimensiones del nuevo array: (4, 2)\n"
     ]
    },
    {
     "data": {
      "image/png": "[encoded data removed]",
      "text/plain": [
       "<Figure size 640x480 with 1 Axes>"
      ]
     },
     "metadata": {},
     "output_type": "display_data"
    }
   ],
   "source": [
    "# Agregar nuevas coordenadas\n",
    "nuevo_array = np.append(datos, [[37.1, -3.6]], axis=0)\n",
    "\n",
    "# Mostrar dimensiones del nuevo array\n",
    "print(f\"Dimensiones del nuevo array: {nuevo_array.shape}\")\n",
    "\n",
    "# Visualizar datos\n",
    "plt.scatter(nuevo_array[:, 0], nuevo_array[:, 1])\n",
    "plt.xlabel(\"Coordenada X\")\n",
    "plt.ylabel(\"Coordenada Y\")\n",
    "plt.show()\n"
   ]
  },
  {
   "cell_type": "markdown",
   "id": "3db2d95e-74b5-4293-9cc5-047fc744ee97",
   "metadata": {},
   "source": [
    "# 6) Copie el array del ejercicio anterior. Traspóngalo (Agregue ahora dos nuevos pares de coordenadas: (10.8, 3.0) y (35.8, 12.0).\n"
   ]
  },
  {
   "cell_type": "code",
   "execution_count": 27,
   "id": "ad656be3-b854-4aef-a5ab-349ee36bb12a",
   "metadata": {
    "tags": []
   },
   "outputs": [
    {
     "name": "stdout",
     "output_type": "stream",
     "text": [
      "Dimensiones del nuevo array: (4, 2)\n"
     ]
    },
    {
     "data": {
      "image/png": "[encoded data removed]",
      "text/plain": [
       "<Figure size 640x480 with 1 Axes>"
      ]
     },
     "metadata": {},
     "output_type": "display_data"
    }
   ],
   "source": [
    "# Agregar nuevas coordenadas\n",
    "nuevo_array = np.append(datos, [[37.1, -3.6]], axis=0)\n",
    "\n",
    "# Mostrar dimensiones del nuevo array\n",
    "print(f\"Dimensiones del nuevo array: {nuevo_array.shape}\")\n",
    "\n",
    "# Visualizar datos\n",
    "plt.scatter(nuevo_array[:, 0], nuevo_array[:, 1])\n",
    "plt.xlabel(\"Coordenada X\")\n",
    "plt.ylabel(\"Coordenada Y\")\n",
    "plt.show()\n"
   ]
  },
  {
   "cell_type": "markdown",
   "id": "4fad89d9-f4a0-47bd-9f33-9c0d1a3ca7f2",
   "metadata": {},
   "source": [
    "# Parte 2"
   ]
  },
  {
   "cell_type": "code",
   "execution_count": 1,
   "id": "c90dbb0b-9ad8-45d1-b8d5-2883012b97cf",
   "metadata": {
    "tags": []
   },
   "outputs": [
    {
     "name": "stdout",
     "output_type": "stream",
     "text": [
      "     FID  OBJECTID                           Texto  Poblacion  CodMun  \\\n",
      "0      0         1                         Agüimes    29431.0   35002   \n",
      "1      1         2                         Antigua    10458.0   35003   \n",
      "2      2         3                        Arrecife    58156.0   35004   \n",
      "3      3         4                          Arucas    36745.0   35006   \n",
      "4      4         5                          Gáldar    24473.0   35009   \n",
      "..   ...       ...                             ...        ...     ...   \n",
      "847  847       848             Infante Juan Manuel    14192.0   30030   \n",
      "848  848       849           Santa Maria de Gracia    13349.0   30030   \n",
      "849  849       850                    Vista Alegre    15208.0   30030   \n",
      "850  850       851  Poligono Sta M de Benquerencia    19177.0   45168   \n",
      "851  851       852                            Grao    16367.0   12040   \n",
      "\n",
      "                                      Municipio  CodProvin  \\\n",
      "0                                       Agüimes         35   \n",
      "1                                       Antigua         35   \n",
      "2                                      Arrecife         35   \n",
      "3                                        Arucas         35   \n",
      "4                                        Gáldar         35   \n",
      "..                                          ...        ...   \n",
      "847                                      Murcia         30   \n",
      "848                                      Murcia         30   \n",
      "849                                      Murcia         30   \n",
      "850                                      Toledo         45   \n",
      "851  Castellón de la Plana/Castelló de la Plana         12   \n",
      "\n",
      "              Provincia          X          Y  \n",
      "0            Las Palmas -15.446012  27.900542  \n",
      "1            Las Palmas -14.013301  28.418966  \n",
      "2            Las Palmas -13.551451  28.960649  \n",
      "3            Las Palmas -15.521512  28.117496  \n",
      "4            Las Palmas -15.654111  28.143873  \n",
      "..                  ...        ...        ...  \n",
      "847              Murcia  -1.124304  37.979033  \n",
      "848              Murcia  -1.202069  37.984024  \n",
      "849              Murcia  -1.130564  37.995715  \n",
      "850              Toledo  -3.948364  39.866699  \n",
      "851  Castelló/Castellón   0.012911  39.973568  \n",
      "\n",
      "[852 rows x 10 columns]\n"
     ]
    }
   ],
   "source": [
    "import pandas as pd\n",
    "\n",
    "# Leer el archivo CSV como un DataFrame\n",
    "df = pd.read_csv(\"NucleosPoblacion.csv\")\n",
    "\n",
    "# Imprimir el DataFrame\n",
    "print(df)"
   ]
  },
  {
   "cell_type": "code",
   "execution_count": 2,
   "id": "62a1a15e-43dd-4286-bdd3-a4cbea10d9f3",
   "metadata": {},
   "outputs": [
    {
     "name": "stdout",
     "output_type": "stream",
     "text": [
      "     FID  OBJECTID                       Texto  Poblacion  CodMun  \\\n",
      "9      9        10  Las Palmas de Gran Canaria   383308.0   35016   \n",
      "16    16        17                       Telde   100900.0   35026   \n",
      "28    28        29  San Cristóbal de La Laguna   152222.0   38023   \n",
      "40    40        41      Santa Cruz de Tenerife   222643.0   38038   \n",
      "42    42        43                     Badajoz   150376.0    6015   \n",
      "..   ...       ...                         ...        ...     ...   \n",
      "683  683       684    Santa Coloma de Gramenet   120060.0    8245   \n",
      "689  689       690                    Terrassa   212724.0    8279   \n",
      "725  725       726                      Lleida   137387.0   25120   \n",
      "735  735       736                        Reus   106622.0   43123   \n",
      "737  737       738                   Tarragona   140184.0   43148   \n",
      "\n",
      "                      Municipio  CodProvin               Provincia          X  \\\n",
      "9    Las Palmas de Gran Canaria         35              Las Palmas -15.413387   \n",
      "16                        Telde         35              Las Palmas -15.416666   \n",
      "28   San Cristóbal de La Laguna         38  Santa Cruz de Tenerife -16.314721   \n",
      "40       Santa Cruz de Tenerife         38  Santa Cruz de Tenerife -16.247264   \n",
      "42                      Badajoz          6                 Badajoz  -6.970997   \n",
      "..                          ...        ...                     ...        ...   \n",
      "683    Santa Coloma de Gramenet          8               Barcelona   2.212155   \n",
      "689                    Terrassa          8               Barcelona   2.012151   \n",
      "725                      Lleida         25                  Lleida   0.620619   \n",
      "735                        Reus         43               Tarragona   1.109861   \n",
      "737                   Tarragona         43               Tarragona   1.258422   \n",
      "\n",
      "             Y  \n",
      "9    28.099775  \n",
      "16   27.994202  \n",
      "28   28.487893  \n",
      "40   28.463257  \n",
      "42   38.878743  \n",
      "..         ...  \n",
      "683  41.453657  \n",
      "689  41.562363  \n",
      "725  41.615274  \n",
      "735  41.154107  \n",
      "737  41.119103  \n",
      "\n",
      "[62 rows x 10 columns]\n"
     ]
    }
   ],
   "source": [
    "#Ejercicio 1\n",
    "\n",
    "df_filtrado = df[df[\"Poblacion\"] > 100000]\n",
    "print(df_filtrado)"
   ]
  },
  {
   "cell_type": "code",
   "execution_count": 5,
   "id": "63839c59-cdc5-4ff3-8b4c-886c95664dd4",
   "metadata": {
    "tags": []
   },
   "outputs": [
    {
     "data": {
      "image/png": "[encoded data removed]",
      "text/plain": [
       "<Figure size 640x480 with 1 Axes>"
      ]
     },
     "metadata": {},
     "output_type": "display_data"
    },
    {
     "name": "stdout",
     "output_type": "stream",
     "text": [
      "Segunda ciudad más poblada: Caldas de Reis\n",
      "Posición de Granada: 273\n"
     ]
    }
   ],
   "source": [
    "# Ejercicio 2\n",
    "\n",
    "import pandas as pd\n",
    "import matplotlib.pyplot as plt\n",
    "\n",
    "df = df.sort_values(by=\"Poblacion\", ascending=True)\n",
    "\n",
    "plt.bar(df[\"Municipio\"], df[\"Poblacion\"])\n",
    "\n",
    "plt.title(\"Población por ciudad\")\n",
    "plt.xlabel(\"Ciudad\")\n",
    "plt.ylabel(\"Población\")\n",
    "\n",
    "plt.show()\n",
    "\n",
    "segunda_ciudad = df[\"Municipio\"].iloc[1]\n",
    "print(f\"Segunda ciudad más poblada: {segunda_ciudad}\")\n",
    "\n",
    "posicion_granada = df.loc[df[\"Municipio\"] == \"Granada\"].index[0] + 1\n",
    "print(f\"Posición de Granada: {posicion_granada}\")"
   ]
  },
  {
   "cell_type": "code",
   "execution_count": 6,
   "id": "479a2a8c-5a43-4fb8-9a43-9b445ccf4d16",
   "metadata": {
    "tags": []
   },
   "outputs": [
    {
     "name": "stdout",
     "output_type": "stream",
     "text": [
      "Número de municipios de Navarra con más de 5000 habitantes: 11\n"
     ]
    }
   ],
   "source": [
    "# Ejercicio 3\n",
    "\n",
    "df_navarra = df[df[\"CodProvin\"] == 31]\n",
    "df_filtrado = df_navarra[df_navarra[\"Poblacion\"] > 5000]\n",
    "numero_municipios = df_filtrado.shape[0]\n",
    "\n",
    "print(f\"Número de municipios de Navarra con más de 5000 habitantes: {numero_municipios}\")"
   ]
  },
  {
   "cell_type": "code",
   "execution_count": 7,
   "id": "ab57a6b4-2017-4cf3-a3c2-ee2297fe4b93",
   "metadata": {
    "tags": []
   },
   "outputs": [
    {
     "name": "stdout",
     "output_type": "stream",
     "text": [
      "Municipio más al Norte: Viveiro\n",
      "Provincia: Lugo\n",
      "Población: 16211.0\n"
     ]
    }
   ],
   "source": [
    "# Ejercicio 4\n",
    "\n",
    "municipio_norte = df.loc[df[\"Y\"] == df[\"Y\"].max()]\n",
    "provincia = municipio_norte[\"Provincia\"].values[0]\n",
    "poblacion = municipio_norte[\"Poblacion\"].values[0]\n",
    "\n",
    "print(f\"Municipio más al Norte: {municipio_norte['Municipio'].values[0]}\")\n",
    "print(f\"Provincia: {provincia}\")\n",
    "print(f\"Población: {poblacion}\")"
   ]
  },
  {
   "cell_type": "code",
   "execution_count": 8,
   "id": "1edf7b38-c492-49e4-8901-c182826c5366",
   "metadata": {
    "tags": []
   },
   "outputs": [
    {
     "name": "stdout",
     "output_type": "stream",
     "text": [
      "Media: 30217.85\n",
      "Mediana: 17526.0\n",
      "Desviación estándar: 50355.49171459277\n",
      "Valor máximo: 239154.0\n",
      "Valor mínimo: 10386.0\n"
     ]
    }
   ],
   "source": [
    "# Ejercicio 5\n",
    "\n",
    "df_granada = df[df[\"Provincia\"] == \"Granada\"]\n",
    "poblacion = df_granada[\"Poblacion\"]\n",
    "\n",
    "media = poblacion.mean()\n",
    "mediana = poblacion.median()\n",
    "desviacion_estandar = poblacion.std()\n",
    "valor_maximo = poblacion.max()\n",
    "valor_minimo = poblacion.min()\n",
    "\n",
    "print(f\"Media: {media}\")\n",
    "print(f\"Mediana: {mediana}\")\n",
    "print(f\"Desviación estándar: {desviacion_estandar}\")\n",
    "print(f\"Valor máximo: {valor_maximo}\")\n",
    "print(f\"Valor mínimo: {valor_minimo}\")"
   ]
  },
  {
   "cell_type": "code",
   "execution_count": 22,
   "id": "68d5ab7b-e6b5-4ed8-a393-c22ad63ae1dd",
   "metadata": {
    "tags": []
   },
   "outputs": [
    {
     "ename": "NameError",
     "evalue": "name 'provincias' is not defined",
     "output_type": "error",
     "traceback": [
      "\u001b[1;31m---------------------------------------------------------------------------\u001b[0m",
      "\u001b[1;31mNameError\u001b[0m                                 Traceback (most recent call last)",
      "Cell \u001b[1;32mIn[22], line 8\u001b[0m\n\u001b[0;32m      3\u001b[0m \u001b[38;5;28;01mimport\u001b[39;00m \u001b[38;5;21;01mnumpy\u001b[39;00m \u001b[38;5;28;01mas\u001b[39;00m \u001b[38;5;21;01mnp\u001b[39;00m\n\u001b[0;32m      5\u001b[0m \u001b[38;5;66;03m# ... (your code to load data into the provincias dictionary)\u001b[39;00m\n\u001b[0;32m      6\u001b[0m \n\u001b[0;32m      7\u001b[0m \u001b[38;5;66;03m# Ensure provincias is a dictionary before proceeding\u001b[39;00m\n\u001b[1;32m----> 8\u001b[0m \u001b[38;5;28;01mif\u001b[39;00m \u001b[38;5;129;01mnot\u001b[39;00m \u001b[38;5;28misinstance\u001b[39m(provincias, \u001b[38;5;28mdict\u001b[39m):\n\u001b[0;32m      9\u001b[0m     \u001b[38;5;28;01mraise\u001b[39;00m \u001b[38;5;167;01mValueError\u001b[39;00m(\u001b[38;5;124m\"\u001b[39m\u001b[38;5;124mprovincias should be a dictionary containing province names and population data.\u001b[39m\u001b[38;5;124m\"\u001b[39m)\n\u001b[0;32m     11\u001b[0m \u001b[38;5;66;03m# Define the number of subplots per figure\u001b[39;00m\n",
      "\u001b[1;31mNameError\u001b[0m: name 'provincias' is not defined"
     ]
    }
   ],
   "source": [
    "import pandas as pd\n",
    "import matplotlib.pyplot as plt\n",
    "import numpy as np\n",
    "\n",
    "# ... (your code to load data into the provincias dictionary)\n",
    "\n",
    "# Ensure provincias is a dictionary before proceeding\n",
    "if not isinstance(provincias, dict):\n",
    "    raise ValueError(\"provincias should be a dictionary containing province names and population data.\")\n",
    "\n",
    "# Define the number of subplots per figure\n",
    "subplots_per_figure = 6  # Adjust as needed\n",
    "\n",
    "# Create figures and iterate over provinces in chunks\n",
    "num_figures = int(np.ceil(len(provincias) / subplots_per_figure))\n",
    "for fig_idx in range(num_figures):\n",
    "    start_idx = fig_idx * subplots_per_figure\n",
    "    end_idx = min((fig_idx + 1) * subplots_per_figure, len(provincias))\n",
    "    provincias_subset = provincias.copy()[start_idx:end_idx]  # Create a subset using slicing\n",
    "\n",
    "    # Create a new figure\n",
    "    plt.figure()\n",
    "\n",
    "    # Generate histograms for provinces in the subset\n",
    "    for i, (provincia, poblacion) in enumerate(provincias_subset.items()):\n",
    "        plt.subplot(2, 3, i + 1)  # Adjust layout as needed\n",
    "        plt.hist(poblacion)\n",
    "        plt.title(provincia)\n",
    "\n",
    "    # Show the figure\n",
    "    plt.show()"
   ]
  },
  {
   "cell_type": "code",
   "execution_count": 17,
   "id": "69236c0f-a8b9-44fd-ab6d-8a1cc5969cff",
   "metadata": {
    "tags": []
   },
   "outputs": [
    {
     "name": "stdout",
     "output_type": "stream",
     "text": [
      "Municipios aleatorios: [\"Castell-Platja d'Aro\", 'Haro', 'Santander', 'Fraga', 'Castellar del Vallès', 'Tarragona', 'Chiva', 'Palma', 'San Fernando', 'Cardedeu', 'Bormujos', 'Premià de Dalt', 'Santa Margalida', 'Terrassa', 'Yaiza', 'Lucena', 'Mora', 'Cartagena', 'Candelaria', 'Calasparra', 'Bollullos Par del Condado', 'Salou', 'Logroño', 'Santa Lucía de Tirajana', 'San Bartolomé', 'Ayamonte', 'Alcantarilla', 'Villanueva de la Serena', 'Puerto de la Cruz', 'Zumarraga', 'Amposta', 'Punta Umbría', 'Yecla', 'La Carolina', 'Teulada', 'Torrelavega', 'Alcalá del Río', 'Albox', 'Almería', \"Sant Sadurní d'Anoia\", 'Palafrugell', 'Valdepeñas', 'Murcia', 'Baena', 'Moguer', 'Mungia', 'Carmona', 'Sanlúcar de Barrameda', 'Moralzarzal', 'Montcada i Reixac']\n",
      "Promedio de la población: 43934.55844155844\n",
      "Desviación estándar de la población: 77695.50948930357\n"
     ]
    }
   ],
   "source": [
    "# Ejercicio 7\n",
    "\n",
    "import random\n",
    "\n",
    "# Seleccionar solo las provincias con población\n",
    "df = df[df[\"Poblacion\"] > 0]\n",
    "\n",
    "# Obtener una muestra aleatoria de 50 municipios sin repeticiones\n",
    "municipios_aleatorios = random.sample(list(df[\"Municipio\"]), 50)\n",
    "\n",
    "# Calcular el promedio de la población\n",
    "poblacion_promedio = df[df[\"Municipio\"].isin(municipios_aleatorios)][\"Poblacion\"].mean()\n",
    "\n",
    "# Calcular la desviación estándar de la población\n",
    "poblacion_desviacion_estandar = df[df[\"Municipio\"].isin(municipios_aleatorios)][\"Poblacion\"].std()\n",
    "\n",
    "# Imprimir los resultados\n",
    "print(f\"Municipios aleatorios: {municipios_aleatorios}\")\n",
    "print(f\"Promedio de la población: {poblacion_promedio}\")\n",
    "print(f\"Desviación estándar de la población: {poblacion_desviacion_estandar}\")"
   ]
  },
  {
   "cell_type": "code",
   "execution_count": 18,
   "id": "a2f7142a-254e-43a0-8a40-9f2b4084b71e",
   "metadata": {
    "tags": []
   },
   "outputs": [
    {
     "ename": "ModuleNotFoundError",
     "evalue": "No module named 'pyproj'",
     "output_type": "error",
     "traceback": [
      "\u001b[1;31m---------------------------------------------------------------------------\u001b[0m",
      "\u001b[1;31mModuleNotFoundError\u001b[0m                       Traceback (most recent call last)",
      "Cell \u001b[1;32mIn[18], line 2\u001b[0m\n\u001b[0;32m      1\u001b[0m \u001b[38;5;28;01mimport\u001b[39;00m \u001b[38;5;21;01mpandas\u001b[39;00m \u001b[38;5;28;01mas\u001b[39;00m \u001b[38;5;21;01mpd\u001b[39;00m\n\u001b[1;32m----> 2\u001b[0m \u001b[38;5;28;01mfrom\u001b[39;00m \u001b[38;5;21;01mpyproj\u001b[39;00m \u001b[38;5;28;01mimport\u001b[39;00m Geod\n\u001b[0;32m      4\u001b[0m \u001b[38;5;66;03m# Cargar el archivo CSV\u001b[39;00m\n\u001b[0;32m      5\u001b[0m df \u001b[38;5;241m=\u001b[39m pd\u001b[38;5;241m.\u001b[39mread_csv(\u001b[38;5;124m\"\u001b[39m\u001b[38;5;124mNucleosPoblacion.csv\u001b[39m\u001b[38;5;124m\"\u001b[39m)\n",
      "\u001b[1;31mModuleNotFoundError\u001b[0m: No module named 'pyproj'"
     ]
    }
   ],
   "source": [
    "import pandas as pd\n",
    "from pyproj import Geod\n",
    "\n",
    "# Cargar el archivo CSV\n",
    "df = pd.read_csv(\"NucleosPoblacion.csv\")\n",
    "\n",
    "# Seleccionar solo las provincias con población\n",
    "df = df[df[\"Poblacion\"] > 0]\n",
    "\n",
    "# Coordenadas de Madrid\n",
    "madrid_latitud = 40.416775\n",
    "madrid_longitud = -3.703790\n",
    "\n",
    "# Función para calcular la distancia entre dos puntos\n",
    "def calcular_distancia(latitud1, longitud1, latitud2, longitud2):\n",
    "  # Usar la librería PyProj\n",
    "  geod = Geod(ellps=\"WGS84\")\n",
    "  inv = geod.inv(longitud1, latitud1, longitud2, latitud2)\n",
    "  return inv[\"dist\"] / 1000 # Convertir a km\n",
    "\n",
    "# Obtener las distancias a Madrid para todos los municipios\n",
    "df[\"DistanciaMadrid\"] = df.apply(lambda row: calcular_distancia(row[\"Y\"], row[\"X\"], madrid_latitud, madrid_longitud), axis=1)\n",
    "\n",
    "# Obtener el municipio más cercano y más lejano a Madrid\n",
    "municipio_cercano = df[df[\"DistanciaMadrid\"] == df[\"DistanciaMadrid\"].min()].iloc[0][\"Municipio\"]\n",
    "municipio_lejano = df[df[\"DistanciaMadrid\"] == df[\"DistanciaMadrid\"].max()].iloc[0][\"Municipio\"]\n",
    "\n",
    "# Imprimir los resultados\n",
    "print(f\"Municipio más cercano a Madrid: {municipio_cercano}\")\n",
    "print(f\"Distancia al municipio más cercano: {df['DistanciaMadrid'].min()} km\")\n",
    "print(f\"Municipio más lejano a Madrid: {municipio_lejano}\")\n",
    "print(f\"Distancia al municipio más lejano: {df['DistanciaMadrid'].max()} km\")"
   ]
  },
  {
   "cell_type": "code",
   "execution_count": null,
   "id": "438cc478-1f23-4de8-8568-1e5c927b00eb",
   "metadata": {},
   "outputs": [],
   "source": []
  }
 ],
 "metadata": {
  "kernelspec": {
   "display_name": "Python 3 (ipykernel)",
   "language": "python",
   "name": "python3"
  },
  "language_info": {
   "codemirror_mode": {
    "name": "ipython",
    "version": 3
   },
   "file_extension": ".py",
   "mimetype": "text/x-python",
   "name": "python",
   "nbconvert_exporter": "python",
   "pygments_lexer": "ipython3",
   "version": "3.11.5"
  }
 },
 "nbformat": 4,
 "nbformat_minor": 5
}
